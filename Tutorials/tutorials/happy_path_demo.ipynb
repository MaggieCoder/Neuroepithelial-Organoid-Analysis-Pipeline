{
 "cells": [
  {
   "cell_type": "markdown",
   "metadata": {},
   "source": [
    "## 🧪 tutorials/happy_path_demo"
   ]
  },
  {
   "cell_type": "code",
   "execution_count": null,
   "metadata": {
    "vscode": {
     "languageId": "plaintext"
    }
   },
   "outputs": [],
   "source": [
    "# Neuroepithelial Organoid Analysis - Happy Path Demo\n",
    "# This notebook demonstrates the main functionality of the pipeline using example data.\n",
    "\n",
    "import os\n",
    "import numpy as np\n",
    "import pandas as pd\n",
    "import matplotlib.pyplot as plt\n",
    "from skimage import io\n",
    "from try1 import process_image  # Assumes try1.py is in the same directory or in PYTHONPATH\n",
    "\n",
    "# Load example image\n",
    "image_name = \"WIP006_G12A\"\n",
    "image_path = \"/Users/fenggeshan/Desktop/tiff/WIP006_G12A.tif\"  # Change if needed\n",
    "\n",
    "# Run the main processing function\n",
    "cell_data_list, convex_hull_summary = process_image(image_name, image_path)\n",
    "\n",
    "# Convert results to DataFrames\n",
    "df_cells = pd.DataFrame(cell_data_list)\n",
    "df_hull = pd.DataFrame([convex_hull_summary])\n",
    "\n",
    "# Display the first few results\n",
    "print(\"Detected Cells:\")\n",
    "display(df_cells.head())\n",
    "\n",
    "print(\"\\nConvex Hull Summary:\")\n",
    "display(df_hull)\n"
   ]
  }
 ],
 "metadata": {
  "language_info": {
   "name": "python"
  }
 },
 "nbformat": 4,
 "nbformat_minor": 2
}
