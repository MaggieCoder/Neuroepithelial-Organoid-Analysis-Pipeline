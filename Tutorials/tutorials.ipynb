{
 "cells": [
  {
   "cell_type": "markdown",
   "id": "3992cdf4",
   "metadata": {},
   "source": [
    "\n",
    "# 🧬✨ Apical-out Cell Classifier Codelab ✨🔬\n",
    "\n",
    "Welcome, scientist-friend!  \n",
    "This tutorial will walk you through how to detect Apical-out cells in microscopy images using pure **Python magic** 🧤🔍\n",
    "\n",
    "It’s fast. It’s pretty. It even draws in blue 💙 and yellow 💛.  \n",
    "Let’s gooo 💻🎨🔬\n",
    "\n",
    "---\n",
    "\n",
    "## 🌈 What You'll Build\n",
    "\n",
    "You’ll create a cozy little image analysis tool that:\n",
    "\n",
    "1. 📸 Loads TIFF microscopy images  \n",
    "2. 🧼 Cleans and segments cells  \n",
    "3. 🔵 Identifies Apical-out cells based on intensity & shape  \n",
    "4. ✨ Draws on the image (Blue = Apical-out! Yellow = Convex hull!)  \n",
    "5. 📊 Saves results as a neat Excel file on your Desktop\n"
   ]
  },
  {
   "cell_type": "markdown",
   "id": "023548fa",
   "metadata": {},
   "source": [
    "## 📦 Chapter 1: Installation\n",
    "This chapter will walk you through setting up your Python environment to run the Apical-in/Apical-out image analysis pipeline. By the end of this chapter, you will have all required packages installed and the project ready to execute.\n",
    "\n",
    "---"
   ]
  },
  {
   "cell_type": "markdown",
   "id": "9774ce16",
   "metadata": {},
   "source": [
    "### 1.1 Prerequisites"
   ]
  },
  {
   "cell_type": "markdown",
   "id": "c4c695d9",
   "metadata": {},
   "source": [
    "Before beginning, make sure you have the following installed:\n",
    "\n",
    "- Python 3.8+\n",
    "\n",
    "You can check your Python version by running:"
   ]
  },
  {
   "cell_type": "code",
   "execution_count": null,
   "id": "be420185",
   "metadata": {},
   "outputs": [],
   "source": [
    "python3 --version"
   ]
  },
  {
   "cell_type": "markdown",
   "id": "26bb9114",
   "metadata": {},
   "source": [
    "### 1.2 (Optional but Recommended) Create a Virtual Environment"
   ]
  },
  {
   "cell_type": "code",
   "execution_count": null,
   "id": "74264a59",
   "metadata": {},
   "outputs": [],
   "source": [
    "python3 -m venv apical_env\n",
    "source apical_env/bin/activate  # On macOS/Linux\n",
    ".\\apical_env\\Scripts\\activate   # On Windows"
   ]
  },
  {
   "cell_type": "markdown",
   "id": "ff50a646",
   "metadata": {},
   "source": [
    "### 1.3 Project Structure"
   ]
  },
  {
   "cell_type": "markdown",
   "id": "2ab99c4a",
   "metadata": {},
   "source": [
    "Make sure your project directory includes the following files:"
   ]
  },
  {
   "cell_type": "code",
   "execution_count": null,
   "id": "850627e7",
   "metadata": {},
   "outputs": [],
   "source": [
    "project/\n",
    "│\n",
    "├── data/                ← Place all .tif images here\n",
    "├── results/             ← Output folder for Excel and visualizations\n",
    "├── parameters.py\n",
    "├── main.py\n",
    "├── image_processing.py\n",
    "└── your_notebook.ipynb"
   ]
  },
  {
   "cell_type": "markdown",
   "id": "767e7901",
   "metadata": {},
   "source": [
    "### 1.4 Install Required Libraries"
   ]
  },
  {
   "cell_type": "markdown",
   "id": "936800d2",
   "metadata": {},
   "source": [
    "Option 1: Use `requirements.txt` (if available):"
   ]
  },
  {
   "cell_type": "code",
   "execution_count": null,
   "id": "9181098e",
   "metadata": {},
   "outputs": [],
   "source": [
    "pip install -r requirements.txt"
   ]
  },
  {
   "cell_type": "markdown",
   "id": "d35dc0b0",
   "metadata": {},
   "source": [
    "Option 2: Manually install each package one by one:"
   ]
  },
  {
   "cell_type": "markdown",
   "id": "43f613ca",
   "metadata": {},
   "source": [
    "pip install numpy pandas matplotlib opencv-python scikit-image scipy openpyxl"
   ]
  },
  {
   "cell_type": "code",
   "execution_count": null,
   "id": "afa391aa",
   "metadata": {},
   "outputs": [],
   "source": [
    "pip install numpy pandas matplotlib opencv-python scikit-image scipy openpyxl"
   ]
  },
  {
   "cell_type": "markdown",
   "id": "4b4f1db0",
   "metadata": {},
   "source": [
    "\n",
    "### 📦 Explanation of Each Package\n",
    "\n",
    "| Package           | Purpose                                                         |\n",
    "|------------------|-----------------------------------------------------------------|\n",
    "| `numpy`          | Numerical computations and array handling                       |\n",
    "| `pandas`         | Tabular data manipulation and Excel export                      |\n",
    "| `matplotlib`     | Visualization and plotting                                      |\n",
    "| `opencv-python` (`cv2`) | Image reading, resizing, and processing               |\n",
    "| `scikit-image`   | Advanced image analysis (e.g., filtering, labeling, morphology) |\n",
    "| `scipy`          | Convex hulls, distance transforms, and filtering                |\n",
    "| `openpyxl`       | Saving results to Excel (.xlsx) files                           |\n",
    "| `os`             | Built-in module for handling file paths and directories         |\n"
   ]
  },
  {
   "cell_type": "markdown",
   "id": "bbe8af61",
   "metadata": {},
   "source": [
    "### 1.5 Verifying the Installation"
   ]
  },
  {
   "cell_type": "markdown",
   "id": "91268bc6",
   "metadata": {},
   "source": [
    "To make sure everything is installed correctly, create and run the following test script:"
   ]
  },
  {
   "cell_type": "code",
   "execution_count": null,
   "id": "9fb0d930",
   "metadata": {},
   "outputs": [],
   "source": [
    "# test_installation.py\n",
    "\n",
    "import os\n",
    "import numpy as np\n",
    "import cv2\n",
    "import pandas as pd\n",
    "import matplotlib.pyplot as plt\n",
    "from skimage import io, filters, morphology, measure\n",
    "from scipy.spatial import ConvexHull\n",
    "\n",
    "print(\"✅ All libraries imported successfully!\")"
   ]
  },
  {
   "cell_type": "markdown",
   "id": "b49d8a23",
   "metadata": {},
   "source": [
    "Run it with:"
   ]
  },
  {
   "cell_type": "code",
   "execution_count": null,
   "id": "b8379d1b",
   "metadata": {},
   "outputs": [],
   "source": [
    "python test_installation.py"
   ]
  },
  {
   "cell_type": "markdown",
   "id": "0b49cfdf",
   "metadata": {},
   "source": [
    "You should see:"
   ]
  },
  {
   "cell_type": "code",
   "execution_count": null,
   "id": "2dbea6ab",
   "metadata": {},
   "outputs": [],
   "source": [
    "✅ All libraries imported successfully!"
   ]
  },
  {
   "cell_type": "markdown",
   "id": "f927e94e",
   "metadata": {},
   "source": [
    "\n",
    "### 1.6 Common Installation Issues\n",
    "\n",
    "| ❌ Error                                     | 🔧 Solution                               |\n",
    "|--------------------------------------------|-------------------------------------------|\n",
    "| ModuleNotFoundError: No module named 'cv2' | Run `pip install opencv-python`           |\n",
    "| No module named 'skimage'                  | Run `pip install scikit-image`            |\n",
    "| Permission denied or Command not found     | Try using `python3` and check for typos   |\n",
    "| Excel export issues                        | Ensure `openpyxl` is installed            |\n"
   ]
  },
  {
   "cell_type": "markdown",
   "id": "a829207e",
   "metadata": {},
   "source": [
    "---\n",
    "### 🖼️ 1.7: Creating TIFF Images for Analysis\"\n",
    "\n",
    "In this chapter, you'll learn how to create or export TIFF images that are compatible with your Apical-out cell classifier.\n",
    "We'll walk through using **ImageJ (Fiji)**, Python, and other tools.\n",
    "\n",
    "### 🧪 Option 1: Using ImageJ / Fiji\n",
    "\n",
    "[Fiji](https://imagej.net/software/fiji/) is a powerful, open-source tool for bioimage analysis.\n",
    "\n",
    "#### ✅ Export TIFF from an existing image:\n",
    "1. Open Fiji\n",
    "2. `File → Open...` to load your image\n",
    "3. Convert to grayscale if needed: `Image → Type → 8-bit`\n",
    "4. `File → Save As → Tiff...` → save into your `data/` folder\n",
    "\n",
    "#### 🧫 Create a new synthetic TIFF:\n",
    "1. `File → New → Image...`\n",
    "2. Choose `8-bit`, 512×512, black or white background\n",
    "3. Draw cells using tools like Brush, Oval, etc.\n",
    "4. `Save As → Tiff...`\n",
    "\n",
    "### 🧬 Option 2: Create TIFF in Python\n",
    "\n",
    "Use Python to generate synthetic data:"
   ]
  },
  {
   "cell_type": "code",
   "execution_count": null,
   "id": "6567cc79",
   "metadata": {},
   "outputs": [],
   "source": [
    "python\n",
    "import numpy as np\n",
    "from skimage import io\n",
    "\n",
    "# Create random grayscale image\n",
    "image = np.random.rand(512, 512) * 255\n",
    "image = image.astype(np.uint8)\n",
    "\n",
    "# Save to TIFF\n",
    "io.imsave(\"data/fake_image.tif\", image)"
   ]
  },
  {
   "cell_type": "markdown",
   "id": "be963344",
   "metadata": {},
   "source": [
    "### 🖼 Option 3: Export from Photoshop\n",
    "\n",
    "You can use Adobe Photoshop to export microscope-like images in TIFF format.\n",
    "\n",
    "### Steps:\n",
    "\n",
    "1. **Convert to Grayscale**  \n",
    "   Go to: `Image → Mode → Grayscale`\n",
    "\n",
    "2. **Save as TIFF**  \n",
    "   Go to: `File → Save As → TIFF`\n",
    "\n",
    "3. **Disable Compression**  \n",
    "   In the TIFF save dialog, uncheck any compression options.\n",
    "\n",
    "4. **Save to `data/` Folder**  \n",
    "   For compatibility with the pipeline, store the `.tif` image inside the project's `data/` directory.\n",
    "\"\"\"\n"
   ]
  },
  {
   "cell_type": "markdown",
   "id": "6083b912",
   "metadata": {},
   "source": [
    "### 📦 Best Practices for Your TIFF Files\n",
    "\n",
    "| Requirement   | Description                                |\n",
    "|---------------|--------------------------------------------|\n",
    "| Format        | `.tif` or `.tiff`                          |\n",
    "| Channels      | Grayscale (1-channel) preferred            |\n",
    "| Bit Depth     | 8-bit or 16-bit                            |\n",
    "| Resolution    | 256×256 to 1024×1024                       |\n",
    "| Folder        | Place images in the `data/` directory      |\n",
    "| Naming        | Avoid spaces. Use `snake_case` if possible |"
   ]
  },
  {
   "cell_type": "markdown",
   "metadata": {},
   "source": [
    "## 💻Chapter 3: Customizing the Analysis\n",
    "\n",
    "This section shows how to adapt the pipeline for your own dataset and preferences. You can configure input images, tune detection sensitivity, change visualization styles, and customize output paths.\n",
    "\n",
    "---\n",
    "\n",
    "### 🔧 3.1 Setting Your Image Files\n",
    "\n",
    "To analyze your own images, open `parameters.py` and edit the `image_files` dictionary to point to your `.tif` files:\n",
    "\n",
    "```python\n",
    "# -------- Define Image Files --------\n",
    "image_files = {\n",
    "    \"Sample_A\": \"path/to/your/images/Sample_A.tif\",\n",
    "    \"Sample_B\": \"path/to/your/images/Sample_B.tif\",\n",
    "    \"Sample_C\": \"path/to/your/images/Sample_C.tif\",\n",
    "    \"Sample_D\": \"path/to/your/images/Sample_D.tif\",\n",
    "}\n",
    "```\n",
    "\n",
    "✅ You may use descriptive names as keys, and ensure that the file paths are correct and accessible.\n",
    "\n",
    "---\n",
    "\n",
    "### 🔧 3.2 Adjusting Detection Parameters\n",
    "\n",
    "To fine-tune the analysis, edit the following parameters in `parameters.py`:\n",
    "\n",
    "```python\n",
    "# -------- Parameters --------\n",
    "min_cell_areas = [100, 50, 30, 15, 10, 5, 3]  # Try these thresholds in order\n",
    "high_intensity_fraction = 0.8                # Fraction of max intensity for high-intensity pixel selection\n",
    "distance_ratio_threshold = 0.4               # Distance ratio for Apical-out classification\n",
    "eccentricity_threshold = 0.4                 # Filters out near-circular regions\n",
    "```\n",
    "\n",
    "💡 **Tips**:\n",
    "- Use larger values in `min_cell_areas` to exclude small debris.\n",
    "- Adjust `high_intensity_fraction` for brighter/dimmer images.\n",
    "- Tune `distance_ratio_threshold` to change how strictly cells are classified as Apical-out.\n",
    "\n",
    "---\n",
    "\n",
    "### 🎨 3.3 Customizing Visualization Colors\n",
    "\n",
    "You can change how results are displayed in the output image. By default:\n",
    "- Apical-out cells are **blue**.\n",
    "- The convex hull boundary is **yellow**.\n",
    "\n",
    "In `image_processing.py`, these lines control the colors:\n",
    "\n",
    "```python\n",
    "cell_color = (0, 0, 255)   # RGB blue\n",
    "...\n",
    "ax.plot(..., color='yellow', linewidth=2)\n",
    "```\n",
    "\n",
    "You can customize them. For example:\n",
    "```python\n",
    "cell_color = (255, 0, 0)   # Red\n",
    "...\n",
    "ax.plot(..., color='lime', linewidth=2)     # Bright green hull\n",
    "```\n",
    "\n",
    "📘 Use RGB values or supported color names (like `'cyan'`, `'magenta'`, `'orange'`).\n",
    "\n",
    "---\n",
    "\n",
    "### 💾 3.4 Specifying Output Location and File Name\n",
    "\n",
    "The analysis results are saved as an Excel file. In `main.py`, the default location is the Desktop:\n",
    "\n",
    "```python\n",
    "output_path = os.path.expanduser(\"~/Desktop\")\n",
    "output_excel_path = os.path.join(output_path, \"cell_analysis.xlsx\")\n",
    "```\n",
    "\n",
    "To change this, simply replace the path:\n",
    "\n",
    "```python\n",
    "output_path = \"results/\"\n",
    "output_excel_path = os.path.join(output_path, \"my_custom_results.xlsx\")\n",
    "```\n",
    "\n",
    "📁 Make sure the folder exists before running the script, or you can create it programmatically with:\n",
    "\n",
    "```python\n",
    "os.makedirs(output_path, exist_ok=True)\n",
    "```\n",
    "\n",
    "---"
   ]
  },
  {
   "cell_type": "markdown",
   "id": "f962b934",
   "metadata": {},
   "source": [
    "### 📦 Notebook Cell: Interactive Configuration Example"
   ]
  },
  {
   "cell_type": "code",
   "execution_count": null,
   "id": "ee8bd748",
   "metadata": {},
   "outputs": [],
   "source": [
    "# Run this cell to configure your analysis interactively\n",
    "\n",
    "import os\n",
    "import ipywidgets as widgets\n",
    "from IPython.display import display\n",
    "\n",
    "# -------- Widgets --------\n",
    "output_path_widget = widgets.Text(\n",
    "    value='results/',\n",
    "    placeholder='Enter output folder path',\n",
    "    description='Output Path:',\n",
    "    layout=widgets.Layout(width='500px')\n",
    ")\n",
    "\n",
    "file_name_widget = widgets.Text(\n",
    "    value='cell_analysis.xlsx',\n",
    "    placeholder='Enter output file name',\n",
    "    description='File Name:',\n",
    "    layout=widgets.Layout(width='400px')\n",
    ")\n",
    "\n",
    "min_area_widget = widgets.Text(\n",
    "    value='100, 50, 30, 15, 10, 5, 3',\n",
    "    placeholder='Comma-separated values',\n",
    "    description='Min Cell Areas:',\n",
    "    layout=widgets.Layout(width='500px')\n",
    ")\n",
    "\n",
    "intensity_frac_widget = widgets.FloatSlider(\n",
    "    value=0.8,\n",
    "    min=0.0,\n",
    "    max=1.0,\n",
    "    step=0.05,\n",
    "    description='Intensity Fraction:',\n",
    "    readout_format='.2f'\n",
    ")\n",
    "\n",
    "distance_thresh_widget = widgets.FloatSlider(\n",
    "    value=0.4,\n",
    "    min=0.0,\n",
    "    max=1.0,\n",
    "    step=0.05,\n",
    "    description='Distance Ratio:',\n",
    "    readout_format='.2f'\n",
    ")\n",
    "\n",
    "eccentricity_widget = widgets.FloatSlider(\n",
    "    value=0.4,\n",
    "    min=0.0,\n",
    "    max=1.0,\n",
    "    step=0.05,\n",
    "    description='Eccentricity:',\n",
    "    readout_format='.2f'\n",
    ")\n",
    "\n",
    "color_widget = widgets.Dropdown(\n",
    "    options=['blue', 'red', 'green', 'cyan', 'magenta', 'yellow', 'lime'],\n",
    "    value='blue',\n",
    "    description='Cell Color:'\n",
    ")\n",
    "\n",
    "hull_color_widget = widgets.Dropdown(\n",
    "    options=['yellow', 'white', 'orange', 'lime', 'purple'],\n",
    "    value='yellow',\n",
    "    description='Hull Color:'\n",
    ")\n",
    "\n",
    "# -------- Display Widgets --------\n",
    "display(output_path_widget, file_name_widget,\n",
    "        min_area_widget, intensity_frac_widget,\n",
    "        distance_thresh_widget, eccentricity_widget,\n",
    "        color_widget, hull_color_widget)\n"
   ]
  }
 ],
 "metadata": {
  "language_info": {
   "name": "python"
  }
 },
 "nbformat": 4,
 "nbformat_minor": 5
}
